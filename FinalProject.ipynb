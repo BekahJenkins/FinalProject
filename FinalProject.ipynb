{
 "cells": [
  {
   "cell_type": "markdown",
   "metadata": {},
   "source": [
    "# Introduction"
   ]
  },
  {
   "cell_type": "markdown",
   "metadata": {},
   "source": [
    "Introduce the project, your approach, talk about the process of how you came up with the metric and some alternatives you may have explored.\n",
    "This project uses datasets from the WPRDC to determine the best neighborhood in Pittsburgh. Our metric to determine \"best\" is the most family friendly. This is determined by looking at the number of playgrounds, number of car crashes, and . In order to quantify our data, we used a point system. Each person looked at their dataset and categorized each neighborhood as \"excellent\", \"good\", \"okay\", or \"poor\". \"Excellent\" received 4 points, \"good\" receieved 3 points, \"okay\" received 2 points, and \"poor\" received 1 point. To combine these metrics, the points from each dataset were added up and the neighborhood with the best "
   ]
  },
  {
   "cell_type": "markdown",
   "metadata": {},
   "source": [
    "# Metrics"
   ]
  },
  {
   "cell_type": "markdown",
   "metadata": {},
   "source": [
    "Describe your metric, what features are you measuring. What datasets are you using?"
   ]
  },
  {
   "cell_type": "markdown",
   "metadata": {},
   "source": [
    "We are ranking neighborhoods by \"family friendliness\", which is a combination of our three submetrics: police arrests, playground equipment, and number of facilities. Neighborhoods were categorized into four categories: 1-poor, 2-average, 3-good, and 4-excellent in our orginal datasets and the final metric categories are as follows where \"x\" is the combined score of the neighborhood: x<6-poor, 5<x<8-average, 7<x<10-good, 9<x<13excellent . The corresponding datasets for our metrics are \"Pittsburgh Police Arrests Data\", \"Pittsburgh Playground Equipment\", and \"City of Pittsburgh Facilities\"."
   ]
  },
  {
   "cell_type": "markdown",
   "metadata": {},
   "source": [
    "# Best Neighborhood"
   ]
  },
  {
   "cell_type": "markdown",
   "metadata": {},
   "source": [
    "Apply the metric from the previous section to determine the best neighborhood in Pittsburgh. Beyond just executing code, provide a narrative about why you think this is the best neighborhood. Incorporate a data visualization, perhaps to rank all of the neighborhoods or show a neighborhood’s best-ness over time. The key is to make a data driven argument."
   ]
  },
  {
   "cell_type": "markdown",
   "metadata": {},
   "source": [
    "# Conclusion"
   ]
  },
  {
   "cell_type": "markdown",
   "metadata": {},
   "source": [
    "Reflect on how the data driven determination of “best neighborhood” is the same or different from your personal favorite neighborhood. Each member of the group should write their own response to this."
   ]
  },
  {
   "cell_type": "code",
   "execution_count": null,
   "metadata": {},
   "outputs": [],
   "source": []
  }
 ],
 "metadata": {
  "kernelspec": {
   "display_name": "Python 3",
   "language": "python",
   "name": "python3"
  },
  "language_info": {
   "codemirror_mode": {
    "name": "ipython",
    "version": 3
   },
   "file_extension": ".py",
   "mimetype": "text/x-python",
   "name": "python",
   "nbconvert_exporter": "python",
   "pygments_lexer": "ipython3",
   "version": "3.8.3"
  }
 },
 "nbformat": 4,
 "nbformat_minor": 4
}
